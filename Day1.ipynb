{
 "cells": [
  {
   "cell_type": "code",
   "execution_count": 1,
   "id": "4c83d14d",
   "metadata": {},
   "outputs": [],
   "source": [
    "def rev(num):\n",
    "    r = str(num)\n",
    "    return r[::-1]"
   ]
  },
  {
   "cell_type": "code",
   "execution_count": 2,
   "id": "05a91f95",
   "metadata": {},
   "outputs": [
    {
     "name": "stdout",
     "output_type": "stream",
     "text": [
      "219\n"
     ]
    }
   ],
   "source": [
    "num=912\n",
    "def reverse(num):\n",
    "    res=0\n",
    "    while num!=0:\n",
    "        rem=num%10\n",
    "        res=res*10+rem\n",
    "        num=num//10\n",
    "    return res\n",
    "print(reverse(num))"
   ]
  },
  {
   "cell_type": "code",
   "execution_count": 3,
   "id": "7e449e87",
   "metadata": {},
   "outputs": [],
   "source": [
    "class Solution:\n",
    "    def reverse(self, x: int) -> int:\n",
    "        sign = -1 if x<0 else 1\n",
    "        x = abs(x)\n",
    "        rev = 0\n",
    "        while x!=0:\n",
    "            rem = x%10\n",
    "            rev = rev*10 + rem\n",
    "            x = x//10\n",
    "        rev = rev*sign\n",
    "        if rev < -2**31 or rev > 2**31:\n",
    "            return 0\n",
    "        return rev"
   ]
  },
  {
   "cell_type": "code",
   "execution_count": null,
   "id": "70de747d",
   "metadata": {},
   "outputs": [],
   "source": [
    "class Solution:\n",
    "    def isPalindrome(self, x: int) -> bool:\n",
    "        s = str(x)\n",
    "        return s == s[::-1]"
   ]
  },
  {
   "cell_type": "code",
   "execution_count": null,
   "id": "632451b4",
   "metadata": {},
   "outputs": [],
   "source": [
    "class Solution:\n",
    "    def isPalindrome(self, x: int) -> bool:\n",
    "        if x < 0:\n",
    "            return False\n",
    "        \n",
    "        original = x\n",
    "        rev = 0\n",
    "        \n",
    "        while x != 0:\n",
    "            rem = x % 10\n",
    "            rev = rev * 10 + rem\n",
    "            x //= 10\n",
    "        \n",
    "        return original == rev"
   ]
  },
  {
   "cell_type": "code",
   "execution_count": null,
   "id": "9b699edb",
   "metadata": {},
   "outputs": [],
   "source": [
    "class Solution:\n",
    "    def isAnagram(self, s: str, t: str) -> bool:\n",
    "        s = sorted(s)\n",
    "        t = sorted(t)\n",
    "        if s== t:\n",
    "            return True\n",
    "        else:\n",
    "            return False"
   ]
  },
  {
   "cell_type": "code",
   "execution_count": null,
   "id": "2b19558d",
   "metadata": {},
   "outputs": [],
   "source": [
    "class Solution:\n",
    "    def fizzBuzz(self, n: int) -> List[str]:\n",
    "        result = []\n",
    "        for i in range(1, n + 1):\n",
    "            if i % 3 == 0 and i % 5 == 0:\n",
    "                result.append(\"FizzBuzz\")\n",
    "            elif i % 3 == 0:\n",
    "                result.append(\"Fizz\")\n",
    "            elif i % 5 == 0:\n",
    "                result.append(\"Buzz\")\n",
    "            else:\n",
    "                result.append(str(i))\n",
    "        return result"
   ]
  },
  {
   "cell_type": "code",
   "execution_count": null,
   "id": "aa937852",
   "metadata": {},
   "outputs": [],
   "source": [
    "class Solution:\n",
    "    def reverseString(self, s: List[str]) -> None:\n",
    "        left = 0\n",
    "        right = len(s)-1\n",
    "        while left < right:\n",
    "            s[left], s[right] = s[right], s[left]\n",
    "            left += 1\n",
    "            right -= 1"
   ]
  },
  {
   "cell_type": "code",
   "execution_count": null,
   "id": "f5ba9754",
   "metadata": {},
   "outputs": [],
   "source": [
    "class Solution:\n",
    "    def strStr(self, haystack: str, needle: str) -> int:\n",
    "        if needle == \"\":\n",
    "            return 0\n",
    "        n = len(haystack)\n",
    "        m = len(needle)\n",
    "        for i in range(n - m + 1):\n",
    "            if haystack[i:i + m] == needle:\n",
    "                return i\n",
    "        return -1"
   ]
  }
 ],
 "metadata": {
  "kernelspec": {
   "display_name": "Python 3 (ipykernel)",
   "language": "python",
   "name": "python3"
  },
  "language_info": {
   "codemirror_mode": {
    "name": "ipython",
    "version": 3
   },
   "file_extension": ".py",
   "mimetype": "text/x-python",
   "name": "python",
   "nbconvert_exporter": "python",
   "pygments_lexer": "ipython3",
   "version": "3.11.5"
  }
 },
 "nbformat": 4,
 "nbformat_minor": 5
}
