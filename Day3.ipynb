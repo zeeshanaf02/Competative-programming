{
 "cells": [
  {
   "cell_type": "code",
   "execution_count": 2,
   "id": "6e5574be",
   "metadata": {},
   "outputs": [
    {
     "name": "stdout",
     "output_type": "stream",
     "text": [
      "100\n"
     ]
    }
   ],
   "source": [
    "a=\"11\"\n",
    "b=\"1\"\n",
    "def addbinary(a,b):\n",
    "    c=int(a,2)\n",
    "    d=int(b,2)\n",
    "    return bin(c+d)[2:]\n",
    "print(addbinary(a,b))"
   ]
  },
  {
   "cell_type": "code",
   "execution_count": 5,
   "id": "cf4d94f4",
   "metadata": {},
   "outputs": [
    {
     "name": "stdout",
     "output_type": "stream",
     "text": [
      "3.1622776601683795\n"
     ]
    }
   ],
   "source": [
    "import math\n",
    "x1,x2,x3=1,2,3\n",
    "y1,y2,y3=1,4,6\n",
    "a=(x2-x1)**2\n",
    "b=(y2-y1)**2\n",
    "c=math.sqrt(a+b)\n",
    "print(c)"
   ]
  },
  {
   "cell_type": "code",
   "execution_count": 8,
   "id": "692a5967",
   "metadata": {},
   "outputs": [
    {
     "name": "stdout",
     "output_type": "stream",
     "text": [
      "3.1622776601683795\n",
      "5.385164807134504\n",
      "2.23606797749979\n"
     ]
    }
   ],
   "source": [
    "import math\n",
    "x1,x2,x3=1,2,3\n",
    "y1,y2,y3=1,4,6\n",
    "def distance(a,b,c,d):\n",
    "    return math.sqrt((b-a)**2+(d-c)**2)\n",
    "print(distance(x1,x2,y1,y2))\n",
    "print(distance(x1,x3,y1,y3))\n",
    "print(distance(x2,x3,y2,y3))"
   ]
  },
  {
   "cell_type": "code",
   "execution_count": 19,
   "id": "993c63e4",
   "metadata": {},
   "outputs": [
    {
     "name": "stdout",
     "output_type": "stream",
     "text": [
      "3322\n"
     ]
    }
   ],
   "source": [
    "def atoi(s):\n",
    "    s=s.strip()\n",
    "    res=0\n",
    "    if len(s)==0:\n",
    "        return 0\n",
    "    sign=1\n",
    "    if s[0]=='-':\n",
    "        sign=-1\n",
    "        s=s[1:]\n",
    "    elif s[0]=='+':\n",
    "        s=s[1:]\n",
    "    for i in s:\n",
    "        if i.isdigit():\n",
    "            digit=int(i)\n",
    "            res=res*10+digit\n",
    "        else:\n",
    "            break\n",
    "    res=res*sign\n",
    "    maxi=2**31-1\n",
    "    mini=-2**31\n",
    "    if res<mini:\n",
    "        return mini\n",
    "    elif res>maxi:\n",
    "        return maxi\n",
    "    else:\n",
    "        return res\n",
    "s=\"3322res\"\n",
    "print(atoi(s))  "
   ]
  },
  {
   "cell_type": "code",
   "execution_count": 22,
   "id": "849e4497",
   "metadata": {},
   "outputs": [
    {
     "data": {
      "text/plain": [
       "24"
      ]
     },
     "execution_count": 22,
     "metadata": {},
     "output_type": "execute_result"
    }
   ],
   "source": [
    "def romanToInt(s):\n",
    "        r = {\"I\": 1, \"V\": 5, \"X\": 10, \"L\": 50, \"C\": 100, \"D\": 500, \"M\": 1000}\n",
    "        ans = 0\n",
    "        for i in range(len(s)):\n",
    "            c=r[s[i]]\n",
    "            n=r[s[i+1]] if i+1<len(s) else 0\n",
    "            if c>=n:\n",
    "                ans=ans+c\n",
    "            else:\n",
    "                ans=ans-c\n",
    "        return ans\n",
    "romanToInt(\"XXIV\")"
   ]
  },
  {
   "cell_type": "code",
   "execution_count": 26,
   "id": "7521d604",
   "metadata": {},
   "outputs": [
    {
     "name": "stdout",
     "output_type": "stream",
     "text": [
      "[4, 2, 3, 1]\n"
     ]
    }
   ],
   "source": [
    "import random \n",
    "def shufflelist(a):\n",
    "    random.shuffle(a)\n",
    "    return a\n",
    "a=[1,2,3,4]\n",
    "b=shufflelist(a)\n",
    "print(b)"
   ]
  },
  {
   "cell_type": "code",
   "execution_count": 3,
   "id": "22f67e2b",
   "metadata": {},
   "outputs": [
    {
     "name": "stdout",
     "output_type": "stream",
     "text": [
      "5\n"
     ]
    }
   ],
   "source": [
    "haystack=\"hellofello\"\n",
    "needle=\"fell\"\n",
    "def substring(haystack,needle):\n",
    "    return haystack.find(needle)\n",
    "print(substring(haystack,needle))"
   ]
  },
  {
   "cell_type": "code",
   "execution_count": 10,
   "id": "609b031e",
   "metadata": {},
   "outputs": [
    {
     "name": "stdout",
     "output_type": "stream",
     "text": [
      "[1, 2]\n"
     ]
    }
   ],
   "source": [
    "def twosum(arr,target):\n",
    "    for i in range(len(arr)):\n",
    "        for j in range(1,len(arr)):\n",
    "            if i!=j:\n",
    "                if arr[i]+arr[j]==target:\n",
    "                    return [i,j]\n",
    "arr=[2,5,5,11]\n",
    "target=10\n",
    "print(twosum(arr,target))"
   ]
  },
  {
   "cell_type": "code",
   "execution_count": 17,
   "id": "913d3d0a",
   "metadata": {},
   "outputs": [
    {
     "name": "stdout",
     "output_type": "stream",
     "text": [
      "Enter the salary:40000\n",
      "\n",
      "The final salary is: 35900.0\n"
     ]
    }
   ],
   "source": [
    "sal=int(input(\"Enter the salary:\"))\n",
    "def tax_calc(sal):\n",
    "    if sal >=0 and sal <= 5000:\n",
    "        print(\"no tax\")\n",
    "        print(\"Salary is:\",sal)\n",
    "    elif sal>5000 and sal<=10000:\n",
    "        sal=sal-(sal*0.05+10)\n",
    "        return sal\n",
    "    elif sal>10000 and sal<=50000:\n",
    "        sal=sal-(sal*0.1+100)\n",
    "        return sal\n",
    "    elif sal>50000 and sal<=100000:\n",
    "        sal=sal-(sal*0.15+150)\n",
    "        return sal\n",
    "    elif sal>100000 and sal<=5000000:\n",
    "        sal=sal-(sal*0.2+600)\n",
    "        return sal\n",
    "    elif sal>5000000:\n",
    "        print(\"salary exceeded\")\n",
    "    elif salary<0:\n",
    "        return -1\n",
    "final_sal=tax_calc(sal)\n",
    "print(\"\\nThe final salary is:\",final_sal)"
   ]
  },
  {
   "cell_type": "code",
   "execution_count": 15,
   "id": "db476073",
   "metadata": {},
   "outputs": [
    {
     "data": {
      "text/plain": [
       "17900.0"
      ]
     },
     "execution_count": 15,
     "metadata": {},
     "output_type": "execute_result"
    }
   ],
   "source": [
    "def taxCalculator(sal):\n",
    "    if sal < 0:\n",
    "        return -1\n",
    "    elif sal <= 5000:\n",
    "        tax = 0 \n",
    "        conv = 0\n",
    "    elif sal >= 5001 and sal <= 10000:\n",
    "        tax = sal * 0.5\n",
    "        conv = 10\n",
    "    elif sal >= 10001 and sal <= 50000:\n",
    "        tax = sal * 0.10\n",
    "        conv = 100\n",
    "    elif sal <= 50001 and sal <= 100000:\n",
    "        tax = sal * 0.15\n",
    "        conv = 150\n",
    "    elif sal >= 1000001 and sal <= 5000000:\n",
    "        tax = sal * 0.20\n",
    "        conv = 600\n",
    "    else:\n",
    "        return \"salary limit exceeded\"\n",
    "    final_salary = sal - tax - conv\n",
    "    return final_salary\n",
    "\n",
    "sal = 20000\n",
    "taxCalculator(sal)"
   ]
  },
  {
   "cell_type": "code",
   "execution_count": 22,
   "id": "2785bbc3",
   "metadata": {},
   "outputs": [
    {
     "name": "stdout",
     "output_type": "stream",
     "text": [
      "[1, 2, 3, 4, 5, 6, 6, 6]\n"
     ]
    }
   ],
   "source": [
    "def removeDuplicates(nums):\n",
    "        i = 0\n",
    "\n",
    "        for j in range(1, len(nums)):\n",
    "            if nums[i] != nums[j]:\n",
    "                i += 1\n",
    "                nums[i] = nums[j]\n",
    "\n",
    "        return i + 1\n",
    "nums=[1,2,3,4,4,5,6,6]\n",
    "removeDuplicates(nums)\n",
    "print(nums)"
   ]
  },
  {
   "cell_type": "code",
   "execution_count": null,
   "id": "7e067a24",
   "metadata": {},
   "outputs": [],
   "source": [
    "n=6\n",
    "def climbing(n):\n",
    "    if n==0 ||n==1:\n",
    "        return 1\n",
    "    \n",
    "    \n",
    "    "
   ]
  }
 ],
 "metadata": {
  "kernelspec": {
   "display_name": "Python 3 (ipykernel)",
   "language": "python",
   "name": "python3"
  },
  "language_info": {
   "codemirror_mode": {
    "name": "ipython",
    "version": 3
   },
   "file_extension": ".py",
   "mimetype": "text/x-python",
   "name": "python",
   "nbconvert_exporter": "python",
   "pygments_lexer": "ipython3",
   "version": "3.11.5"
  }
 },
 "nbformat": 4,
 "nbformat_minor": 5
}
