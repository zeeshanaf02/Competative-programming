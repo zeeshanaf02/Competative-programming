{
 "cells": [
  {
   "cell_type": "code",
   "execution_count": 1,
   "id": "17a282ad",
   "metadata": {},
   "outputs": [
    {
     "data": {
      "text/plain": [
       "'--hellohisir'"
      ]
     },
     "execution_count": 1,
     "metadata": {},
     "output_type": "execute_result"
    }
   ],
   "source": [
    "def hyphens(s):\n",
    "    alph = ''\n",
    "    hyp = ''\n",
    "    for i in s: #h\n",
    "        if i == '-':\n",
    "            hyp = hyp+i  #''+'-'='-'+'-'='--'\n",
    "        else:\n",
    "            alph = alph+i  #''+h='h'+'e'='he'....\n",
    "        #hello + h =helloh ,  helloh + i =hellohi ....\n",
    "        #'--' + 'hellohisir'\n",
    "        #'--hellohisir'\n",
    "    return hyp+alph\n",
    "s = 'hello-hi-sir'\n",
    "hyphens(s)"
   ]
  },
  {
   "cell_type": "code",
   "execution_count": 2,
   "id": "d685d6ce",
   "metadata": {},
   "outputs": [
    {
     "data": {
      "text/plain": [
       "'4BA'"
      ]
     },
     "execution_count": 2,
     "metadata": {},
     "output_type": "execute_result"
    }
   ],
   "source": [
    "def baseNotation(num,n):\n",
    "    rem1 = []\n",
    "    result = ''\n",
    "    while num!=0:\n",
    "        rem = num%n\n",
    "        rem1.append(rem)\n",
    "        num = num//n\n",
    "    #conversion\n",
    "    for i in rem1:\n",
    "        if i > 9:\n",
    "            char = chr(i + 55)\n",
    "            #appending in string \n",
    "            result = result + char\n",
    "        else:\n",
    "            c = str(i)\n",
    "            result = result +c\n",
    "    return result[::-1]\n",
    "\n",
    "num = 718\n",
    "n = 12\n",
    "baseNotation(num,n)"
   ]
  },
  {
   "cell_type": "code",
   "execution_count": 3,
   "id": "3869e4fa",
   "metadata": {},
   "outputs": [
    {
     "data": {
      "text/plain": [
       "0"
      ]
     },
     "execution_count": 3,
     "metadata": {},
     "output_type": "execute_result"
    }
   ],
   "source": [
    "def password(pwd):\n",
    "    if len(pwd) < 4:\n",
    "        return 0\n",
    "    if pwd[0].isdigit():\n",
    "        return 0\n",
    "    cap = 0\n",
    "    nu = 0\n",
    "    for i in pwd:\n",
    "        if i.isupper():\n",
    "            cap = 1\n",
    "        elif i.isdigit():\n",
    "            nu = 1\n",
    "        elif i == '' or i == '/':\n",
    "            return 0\n",
    "    if cap == 1 and nu == 1:\n",
    "        return 1\n",
    "    else:\n",
    "        return 0\n",
    "\n",
    "password(\"weAswe3/4\")"
   ]
  },
  {
   "cell_type": "code",
   "execution_count": 4,
   "id": "dcda36a6",
   "metadata": {},
   "outputs": [
    {
     "data": {
      "text/plain": [
       "90"
      ]
     },
     "execution_count": 4,
     "metadata": {},
     "output_type": "execute_result"
    }
   ],
   "source": [
    "def diffrenceSum(n,m):\n",
    "    total_sum = sum(range(1, m + 1))\n",
    "    \n",
    "    # Calculate the sum of numbers divisible by n\n",
    "    divisible_sum = sum(x for x in range(1, m + 1) if x % n == 0)\n",
    "    \n",
    "    # Calculate the sum of numbers not divisible by n\n",
    "    non_divisible_sum = total_sum - divisible_sum\n",
    "    \n",
    "    # Return the difference\n",
    "    return non_divisible_sum - divisible_sum\n",
    "\n",
    "n = 4\n",
    "m = 20\n",
    "diffrenceSum(n,m)"
   ]
  },
  {
   "cell_type": "code",
   "execution_count": 5,
   "id": "3f3ab904",
   "metadata": {},
   "outputs": [
    {
     "data": {
      "text/plain": [
       "90"
      ]
     },
     "execution_count": 5,
     "metadata": {},
     "output_type": "execute_result"
    }
   ],
   "source": [
    "def differnce(n,m):\n",
    "    sdiv = 0\n",
    "    sndiv = 0\n",
    "    for i in range(1,m+1):\n",
    "        if i %n == 0:\n",
    "            sdiv = sdiv + i\n",
    "        else:\n",
    "            sndiv = sndiv + i\n",
    "    return abs(sdiv - sndiv)\n",
    "\n",
    "n = 4\n",
    "m = 20\n",
    "differnce(n,m)"
   ]
  },
  {
   "cell_type": "code",
   "execution_count": 6,
   "id": "4a37aeca",
   "metadata": {},
   "outputs": [
    {
     "name": "stdout",
     "output_type": "stream",
     "text": [
      "[4, 3, 2]\n",
      "[1, 6, 11]\n"
     ]
    }
   ],
   "source": [
    "arr = [4,1,3,6,2,11]\n",
    "n = len(arr)\n",
    "e = arr[0:n:2]\n",
    "o = arr[1:n:2]\n",
    "print(e)\n",
    "print(o)"
   ]
  },
  {
   "cell_type": "code",
   "execution_count": 7,
   "id": "b1a6a1f5",
   "metadata": {},
   "outputs": [
    {
     "name": "stdout",
     "output_type": "stream",
     "text": [
      "7\n"
     ]
    }
   ],
   "source": [
    "def sumSmall(arr):\n",
    "    n = len(arr)\n",
    "    even = arr[0:n:2]\n",
    "    odd = arr[1:n:2]\n",
    "    even.sort(reverse=True)\n",
    "    odd.sort()\n",
    "    second_largest_even = even[1]\n",
    "    second_smallest_odd = odd[1]\n",
    "    return second_largest_even + second_smallest_odd\n",
    "arr = [3, 2, 1, 7, 5, 4]\n",
    "result = sumSmall(arr)\n",
    "print(result) "
   ]
  },
  {
   "cell_type": "code",
   "execution_count": 8,
   "id": "baeb7797",
   "metadata": {},
   "outputs": [
    {
     "data": {
      "text/plain": [
       "2"
      ]
     },
     "execution_count": 8,
     "metadata": {},
     "output_type": "execute_result"
    }
   ],
   "source": [
    "def smallPair(arr,sum):\n",
    "    n = len(arr)\n",
    "    if n < 2:\n",
    "        print('-1')\n",
    "    sarr = sorted(arr)\n",
    "    for i in range(n - 1):\n",
    "        ssum = sarr[i] + sarr[i + 1]\n",
    "        if ssum <= sum:\n",
    "            return sarr[i] * sarr[i + 1]\n",
    "\n",
    "arr = [2, 6, 1, 7, 8]\n",
    "sum = 3\n",
    "smallPair(arr,sum)"
   ]
  },
  {
   "cell_type": "code",
   "execution_count": 9,
   "id": "7739514f",
   "metadata": {},
   "outputs": [
    {
     "data": {
      "text/plain": [
       "3"
      ]
     },
     "execution_count": 9,
     "metadata": {},
     "output_type": "execute_result"
    }
   ],
   "source": [
    "def findCount(arr, num, diff):\n",
    "    n = len(arr)\n",
    "    count = 0\n",
    "    for i in range(n):\n",
    "        if abs(arr[i]-num) <= diff:\n",
    "            count = count + 1\n",
    "    if count == 0:\n",
    "        return -1\n",
    "    else:\n",
    "        return count\n",
    "\n",
    "arr = [12, 3, 14, 56, 77, 13]\n",
    "num = 13\n",
    "diff = 2\n",
    "findCount(arr,num,diff)"
   ]
  },
  {
   "cell_type": "code",
   "execution_count": 10,
   "id": "c030b0f9",
   "metadata": {},
   "outputs": [
    {
     "data": {
      "text/plain": [
       "'valid'"
      ]
     },
     "execution_count": 10,
     "metadata": {},
     "output_type": "execute_result"
    }
   ],
   "source": [
    "def validpara(p):\n",
    "    dict1 = {'(':')','{':'}','[':']'}\n",
    "    stack = []\n",
    "    for i in p:\n",
    "        if i in dict1:\n",
    "            stack.append(dict1[i])\n",
    "        else:\n",
    "            if stack[-1]==i:\n",
    "                stack.pop()\n",
    "    if len(stack) == 0:\n",
    "        return \"valid\"\n",
    "    else:\n",
    "        return\"in valid\"\n",
    "\n",
    "p = \"()[]{}\"\n",
    "validpara(p)"
   ]
  }
 ],
 "metadata": {
  "kernelspec": {
   "display_name": "Python 3 (ipykernel)",
   "language": "python",
   "name": "python3"
  },
  "language_info": {
   "codemirror_mode": {
    "name": "ipython",
    "version": 3
   },
   "file_extension": ".py",
   "mimetype": "text/x-python",
   "name": "python",
   "nbconvert_exporter": "python",
   "pygments_lexer": "ipython3",
   "version": "3.11.5"
  }
 },
 "nbformat": 4,
 "nbformat_minor": 5
}
