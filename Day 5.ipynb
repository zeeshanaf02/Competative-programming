{
 "cells": [
  {
   "cell_type": "markdown",
   "id": "fc3c8c4f",
   "metadata": {},
   "source": [
    "Day 5"
   ]
  },
  {
   "cell_type": "code",
   "execution_count": 1,
   "id": "b813fdf2",
   "metadata": {},
   "outputs": [
    {
     "name": "stdout",
     "output_type": "stream",
     "text": [
      "{2, 4, 5}\n"
     ]
    }
   ],
   "source": [
    "def intersection(arr1,arr2):\n",
    "    aset=set()\n",
    "    for i in arr1:\n",
    "        if i in arr2:\n",
    "            aset.add(i)\n",
    "    return aset\n",
    "arr1=[1,2,2,4,5]\n",
    "arr2=[2,5,6,4]\n",
    "print(intersection(arr1,arr2))"
   ]
  },
  {
   "cell_type": "markdown",
   "id": "18c45e44",
   "metadata": {},
   "source": [
    "Rat count house"
   ]
  },
  {
   "cell_type": "code",
   "execution_count": 12,
   "id": "25bd854e",
   "metadata": {},
   "outputs": [
    {
     "name": "stdout",
     "output_type": "stream",
     "text": [
      "-1\n"
     ]
    }
   ],
   "source": [
    "def housecount(r,units,arr):\n",
    "    if len(arr)==0:\n",
    "        return -1\n",
    "    foodreq=r*units\n",
    "    foodtaken=0\n",
    "    house=0\n",
    "    for i in arr:\n",
    "        foodtaken+=i\n",
    "        house+=1\n",
    "        if foodtaken>=foodreq:\n",
    "            break\n",
    "    if foodtaken<foodreq:\n",
    "        return 0\n",
    "    return house\n",
    "r=7\n",
    "units=2\n",
    "arr=[]\n",
    "print(housecount(r,units,arr))"
   ]
  },
  {
   "cell_type": "markdown",
   "id": "c6329066",
   "metadata": {},
   "source": [
    "factors of a number"
   ]
  },
  {
   "cell_type": "code",
   "execution_count": 18,
   "id": "f980c08c",
   "metadata": {},
   "outputs": [
    {
     "name": "stdout",
     "output_type": "stream",
     "text": [
      "[1, 2, 17, 34]\n"
     ]
    }
   ],
   "source": [
    "def factors(n):\n",
    "    lst=[]\n",
    "    for i in range(1,n+1):\n",
    "        if n%i==0:\n",
    "            lst.append(i)\n",
    "    if len(lst)<=0:\n",
    "        return 0\n",
    "    return lst\n",
    "print(factors(34))"
   ]
  },
  {
   "cell_type": "code",
   "execution_count": 21,
   "id": "5eff1a46",
   "metadata": {},
   "outputs": [
    {
     "name": "stdout",
     "output_type": "stream",
     "text": [
      "[1, 2, 7, 14]\n"
     ]
    }
   ],
   "source": [
    "# list comprehension\n",
    "def fact(n):\n",
    "    if n<=0:\n",
    "        return 0\n",
    "    num=[i for i in range(1,n+1) if n%i==0]\n",
    "    return num\n",
    "print(fact(14))"
   ]
  },
  {
   "cell_type": "code",
   "execution_count": 35,
   "id": "d58acde2",
   "metadata": {},
   "outputs": [
    {
     "name": "stdout",
     "output_type": "stream",
     "text": [
      "llik\n"
     ]
    }
   ],
   "source": [
    "stack=[]\n",
    "def push(a):\n",
    "    stack.append(a)\n",
    "def rev(str):\n",
    "    res=\"\"\n",
    "    popp=\"\"\n",
    "    for i in str:\n",
    "        push(i)\n",
    "    for i in range(len(stack)):\n",
    "        popp=stack.pop()\n",
    "        res+=popp\n",
    "    return res\n",
    "print(rev(\"kill\"))"
   ]
  },
  {
   "cell_type": "code",
   "execution_count": 36,
   "id": "c5ea8816",
   "metadata": {},
   "outputs": [],
   "source": [
    "class stack:\n",
    "    def __init__(self):\n",
    "        self.st=[]\n",
    "    def revstr(self,str):\n",
    "        res=''\n",
    "        for i in str:\n",
    "            self.st.append(i)\n",
    "        for i in range(len(self.st)):\n",
    "            popp=self.st.pop()\n",
    "            res+=popp\n",
    "        return res"
   ]
  },
  {
   "cell_type": "code",
   "execution_count": 37,
   "id": "9d8c2256",
   "metadata": {},
   "outputs": [
    {
     "data": {
      "text/plain": [
       "'llik'"
      ]
     },
     "execution_count": 37,
     "metadata": {},
     "output_type": "execute_result"
    }
   ],
   "source": [
    "r=stack()\n",
    "r.revstr(\"kill\")"
   ]
  },
  {
   "cell_type": "code",
   "execution_count": 50,
   "id": "6b170e55",
   "metadata": {},
   "outputs": [
    {
     "name": "stdout",
     "output_type": "stream",
     "text": [
      "****\n"
     ]
    }
   ],
   "source": [
    "def missing(arr):\n",
    "    for i in range(1,arr[-1]+1):\n",
    "        if i not in arr:\n",
    "            return i*'*'\n",
    "print(missing([1,2,3,5,6,7]))"
   ]
  },
  {
   "cell_type": "code",
   "execution_count": 61,
   "id": "9d5fddb6",
   "metadata": {},
   "outputs": [
    {
     "name": "stdout",
     "output_type": "stream",
     "text": [
      "27\n"
     ]
    }
   ],
   "source": [
    "print(ord(\"A\")-64+26)"
   ]
  },
  {
   "cell_type": "code",
   "execution_count": 62,
   "id": "b9a1302f",
   "metadata": {},
   "outputs": [
    {
     "name": "stdout",
     "output_type": "stream",
     "text": [
      "1\n"
     ]
    }
   ],
   "source": [
    "def col(word):\n",
    "    res=0\n",
    "    for i in word:\n",
    "        res=res*26+ord(i)-64\n",
    "    return res\n",
    "print(col(\"A\"))"
   ]
  },
  {
   "cell_type": "markdown",
   "id": "fba9dfc0",
   "metadata": {},
   "source": [
    "Demonstrate ATM fuctions"
   ]
  },
  {
   "cell_type": "markdown",
   "id": "aacb0b41",
   "metadata": {},
   "source": [
    "option 1:Withdraw\n",
    "op2:Deposite\n",
    "op3:Balance enquiry\n",
    "op4:Offers on FD\n",
    "option 5:Quit"
   ]
  },
  {
   "cell_type": "code",
   "execution_count": 7,
   "id": "0585b54e",
   "metadata": {},
   "outputs": [],
   "source": [
    "def atm():\n",
    "    pins={\"jj\":5544,\"kk\":6633,\"yy\":8373}\n",
    "    bals={\"jj\":60000,\"kk\":764344,\"yy\":800000}\n",
    "    name=input(\"Enter your name:\")\n",
    "    pin=int(input(\"Enter your atm pin\"))\n",
    "    if pin!=pins[name]:\n",
    "        return \"invlid pin\"\n",
    "    while True:\n",
    "        print(\"1.Withdraw\\n2.Deposite\\n3.Balance Enquiry\\n4.Offers on FD\\n5.Change ATM pin\\n6.Quit\\n\")\n",
    "        ch=int(input(\"Enter your choice:\"))\n",
    "        if ch==1:\n",
    "            amt=int(input(\"Enter the amount:\"))\n",
    "            withdraw(amt,bals,name)\n",
    "        elif ch==2:\n",
    "            amt=int(input(\"Enter the amount:\"))\n",
    "            deposit(amt,bals,name)\n",
    "        elif ch==3:\n",
    "            balanceenq(bals,name)\n",
    "        elif ch==4:\n",
    "            offerfd()\n",
    "        elif ch==5:\n",
    "            changepin(pin,pins,name)\n",
    "        elif ch==6:\n",
    "            break\n",
    "        else:\n",
    "            print(\"Enter valid choice\")"
   ]
  },
  {
   "cell_type": "code",
   "execution_count": 8,
   "id": "e47aaa3f",
   "metadata": {},
   "outputs": [],
   "source": [
    "def withdraw(amount,bals,name):\n",
    "    if amount>bals[name]:\n",
    "        return \"Amount exceeded than the limit\"\n",
    "    else:\n",
    "        bals[name]=bals[name]-amount\n",
    "def deposit(amount,bals,name):\n",
    "    bals[name]=bals[name]+amount\n",
    "def balanceenq(bals,name):\n",
    "    print(\"The remaining balance is\",bals[name],\"\\n\\n\")\n",
    "def offerfd():\n",
    "    print(\"if you start apply for a new load youll be getting 2% less interest on it\\n\")\n",
    "def changepin(pin,pins,name):\n",
    "    oldpin=int(input(\"Enter your old pin:\"))\n",
    "    if oldpin==pin:\n",
    "        print(\"Enter your new pin:\")\n",
    "        newpin=int(input())\n",
    "        pins[name]=newpin\n",
    "        print(\"The pin is updated\\n\\n\")"
   ]
  },
  {
   "cell_type": "code",
   "execution_count": 10,
   "id": "0c4ad62a",
   "metadata": {},
   "outputs": [
    {
     "name": "stdout",
     "output_type": "stream",
     "text": [
      "Enter your name:jj\n",
      "Enter your atm pin5544\n",
      "1.Withdraw\n",
      "2.Deposite\n",
      "3.Balance Enquiry\n",
      "4.Offers on FD\n",
      "5.Change ATM pin\n",
      "6.Quit\n",
      "\n",
      "Enter your choice:1\n",
      "Enter the amount:20000\n",
      "1.Withdraw\n",
      "2.Deposite\n",
      "3.Balance Enquiry\n",
      "4.Offers on FD\n",
      "5.Change ATM pin\n",
      "6.Quit\n",
      "\n",
      "Enter your choice:3\n",
      "The remaining balance is 40000 \n",
      "\n",
      "\n",
      "1.Withdraw\n",
      "2.Deposite\n",
      "3.Balance Enquiry\n",
      "4.Offers on FD\n",
      "5.Change ATM pin\n",
      "6.Quit\n",
      "\n",
      "Enter your choice:2\n",
      "Enter the amount:10000\n",
      "1.Withdraw\n",
      "2.Deposite\n",
      "3.Balance Enquiry\n",
      "4.Offers on FD\n",
      "5.Change ATM pin\n",
      "6.Quit\n",
      "\n",
      "Enter your choice:3\n",
      "The remaining balance is 50000 \n",
      "\n",
      "\n",
      "1.Withdraw\n",
      "2.Deposite\n",
      "3.Balance Enquiry\n",
      "4.Offers on FD\n",
      "5.Change ATM pin\n",
      "6.Quit\n",
      "\n",
      "Enter your choice:6\n"
     ]
    }
   ],
   "source": [
    "atm()"
   ]
  },
  {
   "cell_type": "code",
   "execution_count": 34,
   "id": "802ca7f0",
   "metadata": {},
   "outputs": [],
   "source": [
    "class linkedlist:\n",
    "    class Node:\n",
    "        def __init__(self,data):\n",
    "            self.data=data\n",
    "            self.next=None\n",
    "    def __init__(self):\n",
    "        self.head=None\n",
    "    def insertbeg(self,data):\n",
    "        newnode=linkedlist.Node(data)\n",
    "        newnode.next=self.head\n",
    "        self.head=newnode\n",
    "    def insertend(self,data):\n",
    "        newnode=linkedlist.Node(data)\n",
    "        cur=self.head\n",
    "        while cur.next:\n",
    "            cur=cur.next\n",
    "        cur.next=newnode\n",
    "    def printlist(self):\n",
    "        cur=self.head\n",
    "        while cur:\n",
    "            print(cur.data,end='-->')\n",
    "            cur=cur.next\n",
    "        print(None)\n",
    "    def delbynode(self,val):\n",
    "        if self.head==None:\n",
    "            print(\"List is empty\")\n",
    "        cur=self.head\n",
    "        while cur.next:\n",
    "            if cur.next.data==val:\n",
    "                break\n",
    "            cur=cur.next\n",
    "        if cur.next==None:\n",
    "            print(\"Node doesn't exists\")\n",
    "        else:\n",
    "            cur.next=cur.next.next\n",
    "    def hascycle(self):\n",
    "        t, r = self.head,self.head\n",
    "        while r and r.next:\n",
    "            t = t.next\n",
    "            r = r.next.next\n",
    "            if r==t :\n",
    "                return \"cycle found\"\n",
    "            return \"No cycle\"\n",
    "    def middle(self):\n",
    "        r,t=head,head\n",
    "        while r and r.next:\n",
    "            t=t.next\n",
    "            r=r.next.next\n",
    "        return t\n",
    "    def reverseList(self,head):\n",
    "        prev=None\n",
    "        current=self.head\n",
    "        while current:\n",
    "            next= current.next\n",
    "            current.next = prev \n",
    "            prev = current \n",
    "            current = next\n",
    "        self.head = prev\n",
    "        return prev\n",
    "    def nodefromrev(self,n):\n",
    "        cur=self.head\n",
    "        c=0\n",
    "        while cur:\n",
    "            c+=1\n",
    "            cur=cur.next\n",
    "        if c==n:\n",
    "            return self.head.next\n",
    "        ptr1=self.head\n",
    "        for _ in range(c-n-1):\n",
    "            ptr1=ptr1.next\n",
    "        ptr1.next=ptr1.next.next"
   ]
  },
  {
   "cell_type": "code",
   "execution_count": 35,
   "id": "42cc75b8",
   "metadata": {},
   "outputs": [
    {
     "name": "stdout",
     "output_type": "stream",
     "text": [
      "7-->6-->4-->71-->93-->86-->None\n"
     ]
    }
   ],
   "source": [
    "ll=linkedlist()\n",
    "ll.insertbeg(71)\n",
    "ll.insertend(93)\n",
    "ll.insertend(86)\n",
    "ll.insertbeg(4)\n",
    "ll.insertbeg(6)\n",
    "ll.insertbeg(7)\n",
    "ll.printlist()"
   ]
  },
  {
   "cell_type": "code",
   "execution_count": 36,
   "id": "16ff8f33",
   "metadata": {},
   "outputs": [
    {
     "name": "stdout",
     "output_type": "stream",
     "text": [
      "Node doesn't exists\n",
      "7-->6-->4-->71-->93-->86-->None\n"
     ]
    }
   ],
   "source": [
    "ll.delbynode(42)\n",
    "ll.printlist()"
   ]
  },
  {
   "cell_type": "code",
   "execution_count": null,
   "id": "aa9188cb",
   "metadata": {},
   "outputs": [],
   "source": []
  },
  {
   "cell_type": "code",
   "execution_count": 38,
   "id": "b347da17",
   "metadata": {},
   "outputs": [
    {
     "name": "stdout",
     "output_type": "stream",
     "text": [
      "7-->6-->4-->86-->None\n"
     ]
    }
   ],
   "source": [
    "ll.nodefromrev(2)\n",
    "ll.printlist()"
   ]
  },
  {
   "cell_type": "code",
   "execution_count": null,
   "id": "f155e31b",
   "metadata": {},
   "outputs": [],
   "source": []
  }
 ],
 "metadata": {
  "kernelspec": {
   "display_name": "Python 3 (ipykernel)",
   "language": "python",
   "name": "python3"
  },
  "language_info": {
   "codemirror_mode": {
    "name": "ipython",
    "version": 3
   },
   "file_extension": ".py",
   "mimetype": "text/x-python",
   "name": "python",
   "nbconvert_exporter": "python",
   "pygments_lexer": "ipython3",
   "version": "3.11.5"
  }
 },
 "nbformat": 4,
 "nbformat_minor": 5
}
