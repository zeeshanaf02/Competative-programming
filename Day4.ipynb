{
 "cells": [
  {
   "cell_type": "markdown",
   "id": "33dae61b",
   "metadata": {},
   "source": [
    "# Day 4\n",
    "coding problems on DSA\n",
    "\n",
    "Write a class for linked list which can perfrom:\n",
    "    insert at the beginning,\n",
    "    Deleting by node,\n",
    "    printing"
   ]
  },
  {
   "cell_type": "code",
   "execution_count": null,
   "id": "0d3573f4",
   "metadata": {},
   "outputs": [],
   "source": []
  },
  {
   "cell_type": "code",
   "execution_count": 1,
   "id": "dbb8c60e",
   "metadata": {},
   "outputs": [],
   "source": [
    "class linkedlist:\n",
    "    class Node:\n",
    "        def __init__(self,data):\n",
    "            self.data=data\n",
    "            self.next=None\n",
    "    def __init__(self):\n",
    "        self.head=None\n",
    "    def insertbeg(self,data):\n",
    "        newnode=linkedlist.Node(data)\n",
    "        newnode.next=self.head\n",
    "        self.head=newnode\n",
    "    def insertend(self,data):\n",
    "        newnode=linkedlist.Node(data)\n",
    "        cur=self.head\n",
    "        while cur.next:\n",
    "            cur=cur.next\n",
    "        cur.next=newnode\n",
    "    def printlist(self):\n",
    "        cur=self.head\n",
    "        while cur:\n",
    "            print(cur.data,end='-->')\n",
    "            cur=cur.next\n",
    "        print(None)\n",
    "    def delbynode(self,val):\n",
    "        if self.head==None:\n",
    "            print(\"List is empty\")\n",
    "        cur=self.head\n",
    "        while cur.next:\n",
    "            if cur.next.data==val:\n",
    "                break\n",
    "            cur=cur.next\n",
    "        if cur.next==None:\n",
    "            print(\"Node doesn't exists\")\n",
    "        else:\n",
    "            cur.next=cur.next.next\n",
    "    def hascycle(self):\n",
    "        t, r = self.head,self.head\n",
    "        while r and r.next:\n",
    "            t = t.next\n",
    "            r = r.next.next\n",
    "            if r==t :\n",
    "                return \"cycle found\"\n",
    "            return \"No cycle\"\n",
    "    def middle(self):\n",
    "        r,t=head,head\n",
    "        while r and r.next:\n",
    "            t=t.next\n",
    "            r=r.next.next\n",
    "        return t\n",
    "    def reverseList(self,head):\n",
    "        prev=None\n",
    "        current=self.head\n",
    "        while current:\n",
    "            next= current.next\n",
    "            current.next = prev \n",
    "            prev = current \n",
    "            current = next\n",
    "        self.head = prev\n",
    "        return prev"
   ]
  },
  {
   "cell_type": "code",
   "execution_count": 2,
   "id": "94beccb4",
   "metadata": {},
   "outputs": [
    {
     "name": "stdout",
     "output_type": "stream",
     "text": [
      "19-->25-->35-->42-->59-->None\n"
     ]
    }
   ],
   "source": [
    "ll=linkedlist()\n",
    "ll.insertbeg(35)\n",
    "ll.insertend(42)\n",
    "ll.insertend(59)\n",
    "ll.insertbeg(25)\n",
    "ll.insertbeg(19)\n",
    "ll.printlist()"
   ]
  },
  {
   "cell_type": "code",
   "execution_count": 3,
   "id": "7c777046",
   "metadata": {},
   "outputs": [
    {
     "name": "stdout",
     "output_type": "stream",
     "text": [
      "19-->25-->35-->59-->None\n"
     ]
    }
   ],
   "source": [
    "ll.delbynode(42)\n",
    "ll.printlist()"
   ]
  },
  {
   "cell_type": "code",
   "execution_count": 4,
   "id": "e9937b16",
   "metadata": {},
   "outputs": [
    {
     "data": {
      "text/plain": [
       "'No cycle'"
      ]
     },
     "execution_count": 4,
     "metadata": {},
     "output_type": "execute_result"
    }
   ],
   "source": [
    "ll.hascycle()"
   ]
  },
  {
   "cell_type": "code",
   "execution_count": 7,
   "id": "8942f0e6",
   "metadata": {},
   "outputs": [
    {
     "name": "stdout",
     "output_type": "stream",
     "text": [
      "59-->35-->25-->19-->None\n"
     ]
    }
   ],
   "source": [
    "ll.reverseList(19)\n",
    "ll.printlist()"
   ]
  },
  {
   "cell_type": "code",
   "execution_count": 8,
   "id": "bafb2628",
   "metadata": {},
   "outputs": [],
   "source": [
    "def calcsum(m,n):\n",
    "    sum=0\n",
    "    for i in range(m,n+1):\n",
    "        if i%3==0 and i%5==0:\n",
    "            sum+=i\n",
    "    return sum"
   ]
  },
  {
   "cell_type": "code",
   "execution_count": 9,
   "id": "d277621f",
   "metadata": {},
   "outputs": [
    {
     "data": {
      "text/plain": [
       "150"
      ]
     },
     "execution_count": 9,
     "metadata": {},
     "output_type": "execute_result"
    }
   ],
   "source": [
    "calcsum(12,60)"
   ]
  },
  {
   "cell_type": "code",
   "execution_count": 1,
   "id": "29bf0993",
   "metadata": {},
   "outputs": [
    {
     "data": {
      "text/plain": [
       "9"
      ]
     },
     "execution_count": 1,
     "metadata": {},
     "output_type": "execute_result"
    }
   ],
   "source": [
    "def maxsum(arr):\n",
    "    c = arr[0]\n",
    "    g = arr[0]\n",
    "    for i in range(1,len(arr)):\n",
    "        c = max(arr[i] , c+arr[i])\n",
    "        g = max(c,g)\n",
    "    return g\n",
    "\n",
    "maxsum([-3,-7,5,4])"
   ]
  },
  {
   "cell_type": "code",
   "execution_count": 2,
   "id": "38404fd5",
   "metadata": {},
   "outputs": [],
   "source": [
    "class stack:\n",
    "    def __init__(self):\n",
    "        self.s1 = []\n",
    "        self.temp = []\n",
    "    def push(self,val):\n",
    "        while self.s1:\n",
    "            popped = self.s1.pop()\n",
    "            self.temp.append(popped)\n",
    "        self.s1.append(val)\n",
    "        while self.temp:\n",
    "            popped = self.temp.pop()\n",
    "            self.s1.append(popped)\n",
    "    def pop(self):\n",
    "        return self.s1.pop() if self.s1 else \"No elements\"\n",
    "    def peek(self):\n",
    "        return self.s1[-1] if self.s1 else \"No elements\"\n",
    "    def empty(self):\n",
    "        return len(self.s1) == 0 "
   ]
  },
  {
   "cell_type": "code",
   "execution_count": 3,
   "id": "51c8e1c0",
   "metadata": {},
   "outputs": [
    {
     "data": {
      "text/plain": [
       "80"
      ]
     },
     "execution_count": 3,
     "metadata": {},
     "output_type": "execute_result"
    }
   ],
   "source": [
    "s = stack()\n",
    "s.push(80)\n",
    "s.push(59)\n",
    "s.push(10)\n",
    "s.pop()"
   ]
  }
 ],
 "metadata": {
  "kernelspec": {
   "display_name": "Python 3 (ipykernel)",
   "language": "python",
   "name": "python3"
  },
  "language_info": {
   "codemirror_mode": {
    "name": "ipython",
    "version": 3
   },
   "file_extension": ".py",
   "mimetype": "text/x-python",
   "name": "python",
   "nbconvert_exporter": "python",
   "pygments_lexer": "ipython3",
   "version": "3.11.5"
  }
 },
 "nbformat": 4,
 "nbformat_minor": 5
}
